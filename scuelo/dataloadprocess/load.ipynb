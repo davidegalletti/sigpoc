{
 "cells": [
  {
   "cell_type": "code",
   "execution_count": 4,
   "metadata": {},
   "outputs": [
    {
     "name": "stdout",
     "output_type": "stream",
     "text": [
      "Requirement already satisfied: pandas in /home/humbu/sigpoc/env/lib/python3.10/site-packages (2.2.2)\n",
      "Requirement already satisfied: numpy>=1.22.4 in /home/humbu/sigpoc/env/lib/python3.10/site-packages (from pandas) (1.26.4)\n",
      "Requirement already satisfied: python-dateutil>=2.8.2 in /home/humbu/sigpoc/env/lib/python3.10/site-packages (from pandas) (2.9.0.post0)\n",
      "Requirement already satisfied: pytz>=2020.1 in /home/humbu/sigpoc/env/lib/python3.10/site-packages (from pandas) (2024.1)\n",
      "Requirement already satisfied: tzdata>=2022.7 in /home/humbu/sigpoc/env/lib/python3.10/site-packages (from pandas) (2024.1)\n",
      "Requirement already satisfied: six>=1.5 in /home/humbu/sigpoc/env/lib/python3.10/site-packages (from python-dateutil>=2.8.2->pandas) (1.16.0)\n",
      "\n",
      "\u001b[1m[\u001b[0m\u001b[34;49mnotice\u001b[0m\u001b[1;39;49m]\u001b[0m\u001b[39;49m A new release of pip is available: \u001b[0m\u001b[31;49m23.3.1\u001b[0m\u001b[39;49m -> \u001b[0m\u001b[32;49m24.0\u001b[0m\n",
      "\u001b[1m[\u001b[0m\u001b[34;49mnotice\u001b[0m\u001b[1;39;49m]\u001b[0m\u001b[39;49m To update, run: \u001b[0m\u001b[32;49mpip install --upgrade pip\u001b[0m\n",
      "Requirement already satisfied: django in /home/humbu/sigpoc/env/lib/python3.10/site-packages (4.2.11)\n",
      "Requirement already satisfied: asgiref<4,>=3.6.0 in /home/humbu/sigpoc/env/lib/python3.10/site-packages (from django) (3.8.1)\n",
      "Requirement already satisfied: sqlparse>=0.3.1 in /home/humbu/sigpoc/env/lib/python3.10/site-packages (from django) (0.5.0)\n",
      "Requirement already satisfied: typing-extensions>=4 in /home/humbu/sigpoc/env/lib/python3.10/site-packages (from asgiref<4,>=3.6.0->django) (4.11.0)\n",
      "\n",
      "\u001b[1m[\u001b[0m\u001b[34;49mnotice\u001b[0m\u001b[1;39;49m]\u001b[0m\u001b[39;49m A new release of pip is available: \u001b[0m\u001b[31;49m23.3.1\u001b[0m\u001b[39;49m -> \u001b[0m\u001b[32;49m24.0\u001b[0m\n",
      "\u001b[1m[\u001b[0m\u001b[34;49mnotice\u001b[0m\u001b[1;39;49m]\u001b[0m\u001b[39;49m To update, run: \u001b[0m\u001b[32;49mpip install --upgrade pip\u001b[0m\n"
     ]
    }
   ],
   "source": [
    "!pip install pandas\n",
    "!pip install django"
   ]
  },
  {
   "cell_type": "code",
   "execution_count": 11,
   "metadata": {},
   "outputs": [
    {
     "ename": "ModuleNotFoundError",
     "evalue": "No module named 'scuelo'",
     "output_type": "error",
     "traceback": [
      "\u001b[0;31m---------------------------------------------------------------------------\u001b[0m",
      "\u001b[0;31mModuleNotFoundError\u001b[0m                       Traceback (most recent call last)",
      "Cell \u001b[0;32mIn[11], line 2\u001b[0m\n\u001b[1;32m      1\u001b[0m \u001b[38;5;28;01mimport\u001b[39;00m \u001b[38;5;21;01mpandas\u001b[39;00m \u001b[38;5;28;01mas\u001b[39;00m \u001b[38;5;21;01mpd\u001b[39;00m\n\u001b[0;32m----> 2\u001b[0m \u001b[38;5;28;01mfrom\u001b[39;00m \u001b[38;5;21;01mscuelo\u001b[39;00m\u001b[38;5;21;01m.\u001b[39;00m\u001b[38;5;21;01mmodels\u001b[39;00m \u001b[38;5;28;01mimport\u001b[39;00m Paiement , Eleve , Classe\n\u001b[1;32m      3\u001b[0m xlpath \u001b[38;5;241m=\u001b[39m \u001b[38;5;124m'\u001b[39m\u001b[38;5;124mscuelo/dataloadprocess/Export SICS 2.1.75 (1).xlsx\u001b[39m\u001b[38;5;124m'\u001b[39m\n\u001b[1;32m      5\u001b[0m \u001b[38;5;66;03m# Read Excel data into DataFrames\u001b[39;00m\n",
      "\u001b[0;31mModuleNotFoundError\u001b[0m: No module named 'scuelo'"
     ]
    }
   ],
   "source": [
    "import pandas as pd\n",
    "from scuelo.models import Paiement , Eleve , Classe\n",
    "\n",
    "xlpath = 'scuelo/dataloadprocess/Export SICS 2.1.75 (1).xlsx'\n",
    "\n",
    "# Read Excel data into DataFrames\n",
    "paiement_data = pd.read_excel(xlpath, sheet_name='Paiement')\n",
    "eleve_data = pd.read_excel(xlpath, sheet_name='Eleve')\n",
    "classe_data = pd.read_excel(xlpath, sheet_name='Classe')\n",
    "# Import data into Paiement model\n",
    "for _, row in paiement_data.iterrows():\n",
    "    paiement = Paiement.objects.create(\n",
    "        causal=row['_PK_Paiement_ID'],\n",
    "        montant=row['__FK_Eleve'],\n",
    "        date=row['Date_paiement'],\n",
    "        note=row['Note_Paiement']\n",
    "        # Add other fields as needed\n",
    "    )\n",
    "\n",
    "# Import data into Eleve model\n",
    "for _, row in eleve_data.iterrows():\n",
    "    eleve = Eleve.objects.create(\n",
    "        nom=row['Nom'],\n",
    "        prenom=row['Prenom'],\n",
    "        date_enquete=row['D_enquete'],\n",
    "        condition_eleve=row['Condition_eleve'],\n",
    "        sex=row['Sex'],\n",
    "        date_naissance=row['Date-Naissance'],\n",
    "        cs_py=row['CS_PY'],\n",
    "        hand=row['Hand'],\n",
    "        annee_inscr=row['A_inscr'],\n",
    "        parent=row['Parent'],\n",
    "        tel_parent=row['Tel_parent']\n",
    "        # Add other fields as needed\n",
    "    )\n",
    "\n",
    "# Import data into Classe model\n",
    "for _, row in classe_data.iterrows():\n",
    "    classe = Classe.objects.create(\n",
    "        nom=row['Nom_Classe'],\n",
    "        type_ecole=row['Type_Ecole'],\n",
    "        ordre_classe=row['Ordre_Classe']\n",
    "        # Add other fields as needed\n",
    "    )"
   ]
  }
 ],
 "metadata": {
  "kernelspec": {
   "display_name": "env",
   "language": "python",
   "name": "python3"
  },
  "language_info": {
   "codemirror_mode": {
    "name": "ipython",
    "version": 3
   },
   "file_extension": ".py",
   "mimetype": "text/x-python",
   "name": "python",
   "nbconvert_exporter": "python",
   "pygments_lexer": "ipython3",
   "version": "3.10.12"
  }
 },
 "nbformat": 4,
 "nbformat_minor": 2
}
